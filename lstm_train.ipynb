{
  "cells": [
    {
      "cell_type": "code",
      "execution_count": null,
      "metadata": {
        "id": "H8tVP8HMmh4o"
      },
      "outputs": [],
      "source": [
        "import numpy as np \n",
        "import time\n",
        "import types\n",
        "import matplotlib.pyplot as plt \n",
        "\n",
        "import torch \n",
        "import torch.nn as nn\n",
        "import torchvision\n",
        "import torchvision.transforms as transforms\n",
        "from torch.utils.data import Dataset\n",
        "\n",
        "import librosa\n",
        "import librosa.display\n",
        "import soundfile as sf\n",
        "\n",
        "import os\n",
        "from tqdm import tqdm\n",
        "import time\n",
        "import shutil"
      ]
    },
    {
      "cell_type": "code",
      "execution_count": null,
      "metadata": {
        "colab": {
          "base_uri": "https://localhost:8080/"
        },
        "id": "NEVLWBj4r0zm",
        "outputId": "07a75fe2-4726-4abe-ffdd-b752bf74312d"
      },
      "outputs": [
        {
          "name": "stdout",
          "output_type": "stream",
          "text": [
            "Mounted at /content/drive\n"
          ]
        }
      ],
      "source": [
        "from google.colab import drive\n",
        "drive.mount('/content/drive')"
      ]
    },
    {
      "cell_type": "code",
      "execution_count": null,
      "metadata": {
        "id": "QoJkYxSMz8BT"
      },
      "outputs": [],
      "source": [
        "class RNN(nn.Module):\n",
        "  def __init__(self, input_size, hidden_size, num_layers, num_classes, device, classes=None):\n",
        "    super(RNN, self).__init__()\n",
        "    self.hidden_size = hidden_size\n",
        "    self.num_layers = num_layers\n",
        "    self.lstm = nn.LSTM(input_size, hidden_size, num_layers, batch_first=True)\n",
        "    self.fc = nn.Linear(hidden_size, num_classes)\n",
        "    self.device = device\n",
        "    self.classes = classes\n",
        "\n",
        "  def forward(self, x):\n",
        "    # Set initial hidden and cell states\n",
        "    batch_size = x.size(0)\n",
        "    h0 = torch.zeros(self.num_layers, batch_size, self.hidden_size).to(self.device) \n",
        "    c0 = torch.zeros(self.num_layers, batch_size, self.hidden_size).to(self.device) \n",
        "    \n",
        "    # Forward propagate LSTM\n",
        "    out, _ = self.lstm(x, (h0, c0))  # shape = (batch_size, seq_length, hidden_size)\n",
        "    \n",
        "    # Decode the hidden state of the last time step\n",
        "    out = self.fc(out[:, -1, :])\n",
        "    return out"
      ]
    },
    {
      "cell_type": "markdown",
      "metadata": {
        "id": "jgyzNr5IkhPP"
      },
      "source": [
        "## Augment data"
      ]
    },
    {
      "cell_type": "code",
      "execution_count": null,
      "metadata": {
        "id": "QBdMx7R8cHZs"
      },
      "outputs": [],
      "source": [
        "import glob\n",
        "\n",
        "def rand_uniform(bound, size=None):\n",
        "    l, r = bound[0], bound[1]\n",
        "    return np.random.uniform(l, r, size=size)\n",
        "\n",
        "def is_list_or_tuple(obj):\n",
        "    return isinstance(obj, list) or isinstance(obj, tuple)\n",
        "\n",
        "def to_tuple(val, left_bound=None):\n",
        "    if isinstance(val, tuple):\n",
        "        return val \n",
        "    if isinstance(val, list):\n",
        "        return (val[0], val[1])\n",
        "    else:\n",
        "        if left_bound is None:\n",
        "            left_bound = -val\n",
        "            return (-val, val)\n",
        "        else:\n",
        "            return (left_bound, val)\n",
        "    \n",
        "def get_filenames(folder, file_types=('*.wav',)):\n",
        "    filenames = []\n",
        "    \n",
        "    if not isinstance(file_types, tuple):\n",
        "        file_types = [file_types]\n",
        "        \n",
        "    for file_type in file_types:\n",
        "        filenames.extend(glob.glob(folder + \"/\" + file_type))\n",
        "    filenames.sort()\n",
        "    return filenames\n",
        "\n",
        "def read_audio(filename, dst_sample_rate=16000):\n",
        "    \n",
        "    data, sample_rate = librosa.load(filename) \n",
        "    \n",
        "    if (dst_sample_rate is not None) and (dst_sample_rate != sample_rate):\n",
        "        data = librosa.core.resample(data, sample_rate, dst_sample_rate)\n",
        "        sample_rate = dst_sample_rate\n",
        "        \n",
        "    return data, sample_rate\n",
        "            \n",
        "class Augmenter(object):\n",
        "    \n",
        "    def __init__(self, transforms, prob_to_aug=1):\n",
        "        self.transforms = transforms \n",
        "        self.prob_to_aug = prob_to_aug\n",
        "        \n",
        "    def __call__(self, audio):\n",
        "        if np.random.random()>self.prob_to_aug:\n",
        "            return audio \n",
        "        else:\n",
        "            for transform in self.transforms:\n",
        "                audio = transform(audio)\n",
        "            return audio \n",
        "\n",
        "    # Add noise \n",
        "    class Noise(object):\n",
        "        def __init__(self, noise_folder, prob_noise=0.5, intensity=(0, 0.5)):\n",
        "            self.intensity = to_tuple(intensity)\n",
        "            \n",
        "            # Load noises \n",
        "            fnames = get_filenames(noise_folder)\n",
        "            noises = []\n",
        "            for name in fnames:\n",
        "                noise, rate = read_audio(filename=name)\n",
        "                noise = librosa.util.normalize(noise) \n",
        "                noise = self.repeat_pad_to_time(noise, rate, time=10)\n",
        "                noises.append(noise)\n",
        "            self.noises = noises\n",
        "            self.prob_noise = prob_noise\n",
        "            \n",
        "        def __call__(self, audio):\n",
        "            if np.random.random() > self.prob_noise: \n",
        "                return audio\n",
        "\n",
        "            data = audio.data\n",
        "            \n",
        "            # add noise\n",
        "            noise = self.randomly_pick_a_noise() * rand_uniform(self.intensity)\n",
        "            data = data + random_crop(noise, len(data))\n",
        "            data[data>+1] = +1\n",
        "            data[data<-1] = -1\n",
        "                \n",
        "            audio.data = data\n",
        "            assert len(audio.data) > 0\n",
        "            return audio\n",
        "        \n",
        "        def randomly_pick_a_noise(self):\n",
        "            i = np.random.randint(len(self.noises))\n",
        "            return self.noises[i]\n",
        "        \n",
        "        def repeat_pad_to_time(self, noise, sample_rate, time):\n",
        "            # repeat the noise data, to make it longer than time\n",
        "            N = time * sample_rate\n",
        "            n = len(noise)\n",
        "            if n < N:\n",
        "                noise = np.tile(noise, 1+(N//n))\n",
        "            return noise\n",
        "             \n",
        "\n",
        "    # Shift audio \n",
        "    class Shift(object):\n",
        "        def __init__(self, rate=None, keep_size=False):\n",
        "            self.rate = None\n",
        "            if rate:\n",
        "                self.rate = to_tuple(rate)\n",
        "\n",
        "            self.keep_size = keep_size\n",
        "            \n",
        "        def __call__(self, audio):\n",
        "            if self.rate:\n",
        "                rate = rand_uniform(self.rate)\n",
        "                time = rate * audio.get_len_s() \n",
        "                \n",
        "            n = abs(int(time * audio.sample_rate)) \n",
        "            data = audio.data\n",
        "            \n",
        "            # Shift audio data\n",
        "            if time > 0 or n == 0: \n",
        "                data = data[n:]\n",
        "            else:\n",
        "                data = data[:-n]\n",
        "            \n",
        "            # Add padding\n",
        "            if self.keep_size:\n",
        "                z = np.zeros(n)\n",
        "                if time>0: # pad at left\n",
        "                    data = np.concatenate((z, data))\n",
        "                else:\n",
        "                    data = np.concatenate((data, z))\n",
        "\n",
        "            audio.data = data\n",
        "            return audio\n",
        "         \n",
        "\n",
        "    # Pad zeros randomly at left or right \n",
        "    class PadZeros(object):\n",
        "        def __init__(self, time=None):\n",
        "            self.time = None\n",
        "            \n",
        "            if time: # shift time = time\n",
        "                self.time = to_tuple(time, left_bound=0)\n",
        "            \n",
        "        def __call__(self, audio):\n",
        "            \n",
        "            if self.time:\n",
        "                time = rand_uniform(self.time) # seconds\n",
        "                \n",
        "            n = abs(int(time * audio.sample_rate))\n",
        "            data = audio.data\n",
        "            \n",
        "            # Shift audio data\n",
        "            if np.random.random() < 0.5:\n",
        "                data = np.concatenate(( data, np.zeros(n, ) ))\n",
        "            else:\n",
        "                data = np.concatenate(( np.zeros(n, ), data ))\n",
        "\n",
        "            # return\n",
        "            audio.data = data\n",
        "            return audio\n",
        "        \n",
        "    # Amplify audio by a rate\n",
        "    class Amplify(object):\n",
        "        def __init__(self, rate=(0.2, 2)):\n",
        "            assert is_list_or_tuple(rate)\n",
        "            self.rate = to_tuple(rate)\n",
        "             \n",
        "        def __call__(self, audio):\n",
        "            rate = rand_uniform(self.rate)\n",
        "            data = audio.data * rate\n",
        "            if rate > 1: \n",
        "                data[data>+1] = +1\n",
        "                data[data<-1] = -1\n",
        "                \n",
        "            audio.data = data\n",
        "            return audio"
      ]
    },
    {
      "cell_type": "code",
      "execution_count": null,
      "metadata": {
        "id": "ort-08ERjECg"
      },
      "outputs": [],
      "source": [
        "Aug = Augmenter\n",
        "aug = Aug([        \n",
        "        Aug.Shift(rate=0.2, keep_size=False), \n",
        "        Aug.PadZeros(time=(0, 0.3)),\n",
        "        Aug.Amplify(rate=(0.5, 1.2)),\n",
        "        Aug.Noise(noise_folder=\"/content/drive/MyDrive/xu ly tieng noi/noises/\", prob_noise=0.8, intensity=(0.1, 0.4)),\n",
        "    ], prob_to_aug=0.8)"
      ]
    },
    {
      "cell_type": "markdown",
      "metadata": {
        "id": "xLVwio21koCC"
      },
      "source": [
        "## Data Loader"
      ]
    },
    {
      "cell_type": "code",
      "execution_count": null,
      "metadata": {
        "id": "rFWFjhfs2VCl"
      },
      "outputs": [],
      "source": [
        "def normalize(feature):\n",
        "  normalized = np.full_like(feature, 0)\n",
        "  for i in range(feature.shape[1]):\n",
        "    normalized[:,i] = feature[:,i] - np.mean(feature[:,i]) # đưa trung bình về 0\n",
        "    normalized[:,i] = normalized[:,i] / np.max(np.abs(normalized[:,i])) # đưa khoảng giá trị về [-1, 1]\n",
        "  return normalized\n",
        "\n",
        "class AudioClass(object):\n",
        "  def __init__(self, filename, sample_rate=None, n_mfcc=20):\n",
        "    self.filename = filename\n",
        "    self.n_mfcc = n_mfcc\n",
        "    self.data, self.sample_rate = librosa.load(filename)\n",
        "\n",
        "    self.mfcc = self.compute_mfcc()\n",
        "\n",
        "  def get_len_s(self): # audio length in seconds\n",
        "    return len(self.data)/self.sample_rate\n",
        "\n",
        "  def resample(self, new_sample_rate):\n",
        "    self.data = librosa.core.resample(self.data, self.sample_rate, new_sample_rate)\n",
        "    self.sample_rate = new_sample_rate\n",
        "\n",
        "  def compute_mfcc(self, n_mfcc=None):\n",
        "    if n_mfcc is None:\n",
        "        n_mfcc = self.n_mfcc\n",
        "    if self.n_mfcc is None:\n",
        "        self.n_mfcc = n_mfcc\n",
        "\n",
        "    mfcc = librosa.feature.mfcc(\n",
        "            y=self.data,\n",
        "            sr=self.sample_rate,\n",
        "            n_mfcc=n_mfcc,\n",
        "        )\n",
        "    delta = librosa.feature.delta(mfcc, order=2, mode='nearest')\n",
        "    ft = [normalize(mfcc)]\n",
        "    ft.append(delta)\n",
        "    ft = np.concatenate(ft, axis=0)\n",
        "    return ft\n",
        "\n",
        "\n",
        "class AudioDataset(Dataset):\n",
        "  def __init__(self, root, labels, transform=None):\n",
        "    self.all_file = []\n",
        "    self.all_labels = labels\n",
        "    self.transform = transform\n",
        "\n",
        "    all_names = os.listdir(root)\n",
        "    for name in all_names:\n",
        "      for label in labels:\n",
        "        path = os.path.join(root, name, label) \n",
        "        self.all_file += [os.path.join(path, i) for i in os.listdir(path)]\n",
        "\n",
        "  def __len__(self):\n",
        "    return len(self.all_file)\n",
        "\n",
        "  def __getitem__(self, idx):\n",
        "    name_file = self.all_file[idx]\n",
        "    audio = AudioClass(name_file)\n",
        "    if self.transform:\n",
        "      audio = self.transform(audio)\n",
        "    label = name_file.split('/')[-2]\n",
        "    X = torch.Tensor(audio.mfcc.T)\n",
        "    Y = self.all_labels.index(label)\n",
        "\n",
        "    return X, Y\n",
        "\n",
        "  def set_transform(self, transform):\n",
        "    self.transform = transform\n"
      ]
    },
    {
      "cell_type": "code",
      "execution_count": null,
      "metadata": {
        "id": "_LfpWiuGV6DF"
      },
      "outputs": [],
      "source": [
        "root = '/content/data'\n",
        "all_label = ['trai', 'phai', 'len', 'xuong']"
      ]
    },
    {
      "cell_type": "code",
      "execution_count": null,
      "metadata": {
        "id": "7I3rTApu-ZQq"
      },
      "outputs": [],
      "source": [
        "from torch.utils.data import Subset\n",
        "from sklearn.model_selection import train_test_split\n",
        "\n",
        "def train_val_dataset(dataset, val_split=0.2):\n",
        "    train_idx, val_idx = train_test_split(list(range(len(dataset))), test_size=val_split, random_state=7)\n",
        "    datasets = {}\n",
        "    datasets['train'] = Subset(dataset, train_idx)\n",
        "    datasets['val'] = Subset(dataset, val_idx)\n",
        "    return datasets\n",
        "\n",
        "dataset = train_val_dataset(AudioDataset(root, all_label))\n",
        "train_data = dataset['train']\n",
        "train_data.dataset.set_transform(aug)\n",
        "train_loader = torch.utils.data.DataLoader(train_data, shuffle=True, batch_size=1)\n",
        "test_data = dataset['val']\n",
        "test_loader = torch.utils.data.DataLoader(test_data, shuffle=True, batch_size=1)"
      ]
    },
    {
      "cell_type": "code",
      "execution_count": null,
      "metadata": {
        "colab": {
          "base_uri": "https://localhost:8080/"
        },
        "id": "pxd5K6cGZDoO",
        "outputId": "a6cde631-53b2-4ab8-d58c-3a8bea8f40e8"
      },
      "outputs": [
        {
          "name": "stdout",
          "output_type": "stream",
          "text": [
            "torch.Size([1, 23, 40])\n"
          ]
        }
      ],
      "source": [
        "x, y = next(iter(train_loader))\n",
        "print(x.shape)"
      ]
    },
    {
      "cell_type": "markdown",
      "metadata": {
        "id": "1FJ3tz8bCCuZ"
      },
      "source": [
        "## Training"
      ]
    },
    {
      "cell_type": "code",
      "execution_count": null,
      "metadata": {
        "id": "i9UCn_Li-lzq"
      },
      "outputs": [],
      "source": [
        "def train_fn(model, optimizer, loss_fn, dataloader, device='cpu'):\n",
        "  mean_loss = []\n",
        "  model.train()\n",
        "\n",
        "  for feature, label in tqdm(dataloader):\n",
        "    feature = feature.float().to(device)\n",
        "    label = label.long().to(device)\n",
        "\n",
        "    optimizer.zero_grad()\n",
        "\n",
        "    preds = model(feature)\n",
        "    loss = loss_fn(preds, label)\n",
        "    mean_loss.append(loss.item())\n",
        "\n",
        "    loss.backward()\n",
        "    optimizer.step()\n",
        "\n",
        "  print(f\"Mean loss: {sum(mean_loss) / len(mean_loss)}\")\n",
        "  return sum(mean_loss) / len(mean_loss)\n",
        "\n",
        "def eval_fn(model, loss_fn, dataloader, device='cpu'):\n",
        "  model.eval()\n",
        "  cr = 0\n",
        "  tt = 0\n",
        "  for feature, label in tqdm(dataloader):\n",
        "    feature = feature.float().to(device)\n",
        "    label = label.long().to(device)\n",
        "    with torch.no_grad():\n",
        "      pred = model(feature)\n",
        "      _, pred_label = torch.max(pred, dim=1)\n",
        "      tt += label.size(0)\n",
        "      cr += (pred_label == label).sum().item()\n",
        "\n",
        "  eval_accu = cr / tt\n",
        "  return eval_accu\n",
        "\n",
        "def predict(wav_file, model, all_label=None, device='cpu'):\n",
        "  t0 = time.time()\n",
        "  audio, sr = librosa.load(wav_file)\n",
        "  clip = librosa.effects.trim(audio, top_db= 10)\n",
        "  new_audio = clip[0]\n",
        "  mfcc = librosa.feature.mfcc(\n",
        "            y=clip[0],\n",
        "            n_mfcc=20,\n",
        "        )\n",
        "  mfcc = normalize(mfcc)\n",
        "  t1 = time.time()\n",
        "  print('Preprocess : %f' % (t1 - t0))\n",
        "  print('-----------------')\n",
        "  # model.eval().to(device)\n",
        "  t2 = time.time()\n",
        "  input = torch.Tensor(mfcc.T).unsqueeze(0)\n",
        "  _, label = torch.max(model(input.to(device)), dim=1)\n",
        "  t3 = time.time()\n",
        "\n",
        "  print('Predict: %f' % (t3 - t2))\n",
        "  print('-------------------')\n",
        "  if all_label is None:\n",
        "    return label\n",
        "  \n",
        "  return all_label[label]\n",
        "\n",
        "def save_checkpoint(epoch, state, filename='/content/drive/MyDrive/xu ly tieng noi/checkpoint/ver3.pth'):\n",
        "  torch.save(state, filename)\n",
        "\n",
        "def load_checkpoint(device, filename='/content/drive/MyDrive/xu ly tieng noi/checkpoint/ver3.pth'):\n",
        "  checkpoint = torch.load(filename, map_location=device)\n",
        "  model = RNN(input_size=20, hidden_size=64, num_layers=3, num_classes=4, device=device)\n",
        "  model.load_state_dict(checkpoint['model'])\n",
        "  model.to(device)\n",
        "  optimizer = torch.optim.Adam(model.parameters(), lr=lr, weight_decay=weight_dc)\n",
        "  optimizer.load_state_dict(checkpoint['optimizer'])\n",
        "\n",
        "  return (model, optimizer)"
      ]
    },
    {
      "cell_type": "code",
      "execution_count": null,
      "metadata": {
        "id": "r1cKsr4m-qMO"
      },
      "outputs": [],
      "source": [
        "class EarlyStopping():\n",
        "    def __init__(self, patience=3, min_delta=0):\n",
        "        self.patience = patience\n",
        "        self.min_delta = min_delta\n",
        "        self.counter = 0\n",
        "        self.best_acc = None\n",
        "        self.early_stop = False\n",
        "    def __call__(self, val_acc):\n",
        "        if self.best_acc == None:\n",
        "            self.best_acc = val_acc\n",
        "        elif self.best_acc - val_acc < self.min_delta:\n",
        "            self.best_acc = val_acc\n",
        "            # reset counter if validation acc improves\n",
        "            self.counter = 0\n",
        "        elif self.best_acc - val_acc > self.min_delta:\n",
        "            self.counter += 1\n",
        "            print(f\"INFO: Early stopping counter {self.counter} of {self.patience}\")\n",
        "            if self.counter >= self.patience:\n",
        "                print('INFO: Early stopping')\n",
        "                self.early_stop = True"
      ]
    },
    {
      "cell_type": "code",
      "execution_count": null,
      "metadata": {
        "colab": {
          "base_uri": "https://localhost:8080/"
        },
        "id": "TgqWFSwQ-etp",
        "outputId": "b28855b2-f4a9-4abf-dd4a-267f27383e25"
      },
      "outputs": [
        {
          "name": "stdout",
          "output_type": "stream",
          "text": [
            "RNN(\n",
            "  (lstm): LSTM(40, 64, num_layers=3, batch_first=True)\n",
            "  (fc): Linear(in_features=64, out_features=4, bias=True)\n",
            ")\n"
          ]
        }
      ],
      "source": [
        "device = torch.device('cpu')\n",
        "model = RNN(input_size=40, hidden_size=64, num_layers=3, num_classes=4, device=device)\n",
        "print(model)"
      ]
    },
    {
      "cell_type": "code",
      "execution_count": null,
      "metadata": {
        "id": "KSEJxRbnExCK"
      },
      "outputs": [],
      "source": [
        "lr = 1e-4\n",
        "weight_dc = 0.0\n",
        "\n",
        "loss_fn = nn.CrossEntropyLoss()\n",
        "optimizer = torch.optim.Adam(model.parameters(), lr=lr, weight_decay=weight_dc)"
      ]
    },
    {
      "cell_type": "code",
      "execution_count": null,
      "metadata": {
        "colab": {
          "background_save": true,
          "base_uri": "https://localhost:8080/"
        },
        "id": "sHdNBrYPXEds",
        "outputId": "00ab7c66-60b1-46ec-cb5b-b33126ed6a02"
      },
      "outputs": [
        {
          "name": "stdout",
          "output_type": "stream",
          "text": [
            "Training....\n"
          ]
        },
        {
          "name": "stderr",
          "output_type": "stream",
          "text": [
            "100%|██████████| 2889/2889 [02:23<00:00, 20.13it/s]\n"
          ]
        },
        {
          "name": "stdout",
          "output_type": "stream",
          "text": [
            "Mean loss: 0.507182653194539\n",
            "Evaluating train set....\n"
          ]
        },
        {
          "name": "stderr",
          "output_type": "stream",
          "text": [
            "100%|██████████| 2889/2889 [01:37<00:00, 29.69it/s]\n"
          ]
        },
        {
          "name": "stdout",
          "output_type": "stream",
          "text": [
            "Train acc:  0.9595015576323987\n",
            "Evaluating test set...\n"
          ]
        },
        {
          "name": "stderr",
          "output_type": "stream",
          "text": [
            "100%|██████████| 723/723 [00:26<00:00, 27.30it/s]\n"
          ]
        },
        {
          "name": "stdout",
          "output_type": "stream",
          "text": [
            "Test acc:  0.9474412171507607\n",
            "Better_ver saved\n",
            "Training....\n"
          ]
        },
        {
          "name": "stderr",
          "output_type": "stream",
          "text": [
            "100%|██████████| 2889/2889 [02:22<00:00, 20.31it/s]\n"
          ]
        },
        {
          "name": "stdout",
          "output_type": "stream",
          "text": [
            "Mean loss: 0.07887196595764111\n",
            "Evaluating train set....\n"
          ]
        },
        {
          "name": "stderr",
          "output_type": "stream",
          "text": [
            "100%|██████████| 2889/2889 [01:37<00:00, 29.72it/s]\n"
          ]
        },
        {
          "name": "stdout",
          "output_type": "stream",
          "text": [
            "Train acc:  0.9923849082727587\n",
            "Evaluating test set...\n"
          ]
        },
        {
          "name": "stderr",
          "output_type": "stream",
          "text": [
            "100%|██████████| 723/723 [00:24<00:00, 29.24it/s]\n"
          ]
        },
        {
          "name": "stdout",
          "output_type": "stream",
          "text": [
            "Test acc:  0.983402489626556\n",
            "Better_ver saved\n",
            "Training....\n"
          ]
        },
        {
          "name": "stderr",
          "output_type": "stream",
          "text": [
            "100%|██████████| 2889/2889 [02:18<00:00, 20.89it/s]\n"
          ]
        },
        {
          "name": "stdout",
          "output_type": "stream",
          "text": [
            "Mean loss: 0.0391623746774905\n",
            "Evaluating train set....\n"
          ]
        },
        {
          "name": "stderr",
          "output_type": "stream",
          "text": [
            "100%|██████████| 2889/2889 [01:37<00:00, 29.64it/s]\n"
          ]
        },
        {
          "name": "stdout",
          "output_type": "stream",
          "text": [
            "Train acc:  0.986846659743856\n",
            "Evaluating test set...\n"
          ]
        },
        {
          "name": "stderr",
          "output_type": "stream",
          "text": [
            "100%|██████████| 723/723 [00:25<00:00, 28.41it/s]\n"
          ]
        },
        {
          "name": "stdout",
          "output_type": "stream",
          "text": [
            "Test acc:  0.9723374827109267\n",
            "INFO: Early stopping counter 1 of 3\n",
            "Training....\n"
          ]
        },
        {
          "name": "stderr",
          "output_type": "stream",
          "text": [
            "100%|██████████| 2889/2889 [02:21<00:00, 20.45it/s]\n"
          ]
        },
        {
          "name": "stdout",
          "output_type": "stream",
          "text": [
            "Mean loss: 0.03138680855615284\n",
            "Evaluating train set....\n"
          ]
        },
        {
          "name": "stderr",
          "output_type": "stream",
          "text": [
            "100%|██████████| 2889/2889 [01:39<00:00, 29.07it/s]\n"
          ]
        },
        {
          "name": "stdout",
          "output_type": "stream",
          "text": [
            "Train acc:  0.9961924541363794\n",
            "Evaluating test set...\n"
          ]
        },
        {
          "name": "stderr",
          "output_type": "stream",
          "text": [
            "100%|██████████| 723/723 [00:25<00:00, 28.36it/s]\n"
          ]
        },
        {
          "name": "stdout",
          "output_type": "stream",
          "text": [
            "Test acc:  0.9820193637621023\n",
            "INFO: Early stopping counter 2 of 3\n",
            "Training....\n"
          ]
        },
        {
          "name": "stderr",
          "output_type": "stream",
          "text": [
            "100%|██████████| 2889/2889 [02:20<00:00, 20.55it/s]\n"
          ]
        },
        {
          "name": "stdout",
          "output_type": "stream",
          "text": [
            "Mean loss: 0.02480596678995412\n",
            "Evaluating train set....\n"
          ]
        },
        {
          "name": "stderr",
          "output_type": "stream",
          "text": [
            "100%|██████████| 2889/2889 [01:39<00:00, 29.18it/s]\n"
          ]
        },
        {
          "name": "stdout",
          "output_type": "stream",
          "text": [
            "Train acc:  0.995846313603323\n",
            "Evaluating test set...\n"
          ]
        },
        {
          "name": "stderr",
          "output_type": "stream",
          "text": [
            "100%|██████████| 723/723 [00:25<00:00, 28.79it/s]\n"
          ]
        },
        {
          "name": "stdout",
          "output_type": "stream",
          "text": [
            "Test acc:  0.9875518672199171\n",
            "Better_ver saved\n",
            "Training....\n"
          ]
        },
        {
          "name": "stderr",
          "output_type": "stream",
          "text": [
            "100%|██████████| 2889/2889 [02:18<00:00, 20.89it/s]\n"
          ]
        },
        {
          "name": "stdout",
          "output_type": "stream",
          "text": [
            "Mean loss: 0.015497274674281289\n",
            "Evaluating train set....\n"
          ]
        },
        {
          "name": "stderr",
          "output_type": "stream",
          "text": [
            "100%|██████████| 2889/2889 [01:36<00:00, 29.78it/s]\n"
          ]
        },
        {
          "name": "stdout",
          "output_type": "stream",
          "text": [
            "Train acc:  0.9986154378677743\n",
            "Evaluating test set...\n"
          ]
        },
        {
          "name": "stderr",
          "output_type": "stream",
          "text": [
            "100%|██████████| 723/723 [00:24<00:00, 29.04it/s]\n"
          ]
        },
        {
          "name": "stdout",
          "output_type": "stream",
          "text": [
            "Test acc:  0.9889349930843707\n",
            "Better_ver saved\n",
            "Training....\n"
          ]
        },
        {
          "name": "stderr",
          "output_type": "stream",
          "text": [
            "100%|██████████| 2889/2889 [02:18<00:00, 20.85it/s]\n"
          ]
        },
        {
          "name": "stdout",
          "output_type": "stream",
          "text": [
            "Mean loss: 0.016251537763384193\n",
            "Evaluating train set....\n"
          ]
        },
        {
          "name": "stderr",
          "output_type": "stream",
          "text": [
            "100%|██████████| 2889/2889 [01:35<00:00, 30.28it/s]\n"
          ]
        },
        {
          "name": "stdout",
          "output_type": "stream",
          "text": [
            "Train acc:  0.9968847352024922\n",
            "Evaluating test set...\n"
          ]
        },
        {
          "name": "stderr",
          "output_type": "stream",
          "text": [
            "100%|██████████| 723/723 [00:26<00:00, 27.33it/s]\n"
          ]
        },
        {
          "name": "stdout",
          "output_type": "stream",
          "text": [
            "Test acc:  0.9889349930843707\n",
            "Training....\n"
          ]
        },
        {
          "name": "stderr",
          "output_type": "stream",
          "text": [
            "100%|██████████| 2889/2889 [02:15<00:00, 21.27it/s]\n"
          ]
        },
        {
          "name": "stdout",
          "output_type": "stream",
          "text": [
            "Mean loss: 0.009608549283023255\n",
            "Evaluating train set....\n"
          ]
        },
        {
          "name": "stderr",
          "output_type": "stream",
          "text": [
            "100%|██████████| 2889/2889 [01:37<00:00, 29.76it/s]\n"
          ]
        },
        {
          "name": "stdout",
          "output_type": "stream",
          "text": [
            "Train acc:  0.9996538594669436\n",
            "Evaluating test set...\n"
          ]
        },
        {
          "name": "stderr",
          "output_type": "stream",
          "text": [
            "100%|██████████| 723/723 [00:24<00:00, 28.95it/s]\n"
          ]
        },
        {
          "name": "stdout",
          "output_type": "stream",
          "text": [
            "Test acc:  0.9889349930843707\n",
            "Training....\n"
          ]
        },
        {
          "name": "stderr",
          "output_type": "stream",
          "text": [
            "100%|██████████| 2889/2889 [02:17<00:00, 20.96it/s]\n"
          ]
        },
        {
          "name": "stdout",
          "output_type": "stream",
          "text": [
            "Mean loss: 0.006938807617206014\n",
            "Evaluating train set....\n"
          ]
        },
        {
          "name": "stderr",
          "output_type": "stream",
          "text": [
            "100%|██████████| 2889/2889 [01:37<00:00, 29.66it/s]\n"
          ]
        },
        {
          "name": "stdout",
          "output_type": "stream",
          "text": [
            "Train acc:  0.9993077189338871\n",
            "Evaluating test set...\n"
          ]
        },
        {
          "name": "stderr",
          "output_type": "stream",
          "text": [
            "100%|██████████| 723/723 [00:24<00:00, 29.23it/s]\n"
          ]
        },
        {
          "name": "stdout",
          "output_type": "stream",
          "text": [
            "Test acc:  0.9903181189488244\n",
            "Better_ver saved\n",
            "Training....\n"
          ]
        },
        {
          "name": "stderr",
          "output_type": "stream",
          "text": [
            "100%|██████████| 2889/2889 [02:17<00:00, 21.06it/s]\n"
          ]
        },
        {
          "name": "stdout",
          "output_type": "stream",
          "text": [
            "Mean loss: 0.008573573336898212\n",
            "Evaluating train set....\n"
          ]
        },
        {
          "name": "stderr",
          "output_type": "stream",
          "text": [
            "100%|██████████| 2889/2889 [01:37<00:00, 29.72it/s]\n"
          ]
        },
        {
          "name": "stdout",
          "output_type": "stream",
          "text": [
            "Train acc:  0.9993077189338871\n",
            "Evaluating test set...\n"
          ]
        },
        {
          "name": "stderr",
          "output_type": "stream",
          "text": [
            "100%|██████████| 723/723 [00:24<00:00, 29.08it/s]"
          ]
        },
        {
          "name": "stdout",
          "output_type": "stream",
          "text": [
            "Test acc:  0.9903181189488244\n"
          ]
        },
        {
          "name": "stderr",
          "output_type": "stream",
          "text": [
            "\n"
          ]
        }
      ],
      "source": [
        "epoches = 10\n",
        "best_acc = 0.\n",
        "# device = torch.device('cuda')\n",
        "model.to(device)\n",
        "early_stopping = EarlyStopping()\n",
        "\n",
        "for epoch in range(epoches):\n",
        "  print('Training....')\n",
        "  train_loss = train_fn(model, optimizer, loss_fn, train_loader, device)\n",
        "  print('Evaluating train set....')\n",
        "  train_acc = eval_fn(model, loss_fn, train_loader, device)\n",
        "  print('Train acc: ', train_acc)\n",
        "  print('Evaluating test set...')\n",
        "  test_acc = eval_fn(model, loss_fn, test_loader, device)\n",
        "  print('Test acc: ', test_acc)\n",
        "  if best_acc < test_acc:\n",
        "    print('Better_ver saved')\n",
        "    state_dict = {\n",
        "    'model': model.state_dict(),\n",
        "    'optimizer': optimizer.state_dict(),\n",
        "    'loss': train_loss,\n",
        "    'acc': test_acc\n",
        "    }\n",
        "    save_checkpoint(None, state_dict)\n",
        "    best_acc = test_acc\n",
        "  early_stopping(test_acc)\n",
        "  if early_stopping.early_stop:\n",
        "      break"
      ]
    },
    {
      "cell_type": "code",
      "execution_count": null,
      "metadata": {
        "id": "Zp_KJwThnxSa"
      },
      "outputs": [],
      "source": [
        "loss = [0.8419548123739673, 0.366685815545572, 0.23426961635509244, 0.17188859221769845, 0.13896896700486322, 0.12019819461930913,\n",
        "        0.1053650925664812, 0.10937802457890072, 0.08840000305829541, 0.09100761646067584]\n",
        "train_acc = [0.805122879889235, 0.9169262720664589, 0.9273104880581516, 0.9536171685704395, 0.9556940117687781, 0.9709241952232607,\n",
        "            0.9747317410868813, 0.9806161301488404, 0.9858082381446868, 0.9747317410868813]\n",
        "test_acc = [0.7800829875518672, 0.9059474412171508, 0.9073305670816044, 0.946058091286307, 0.941908713692946, 0.9626556016597511,\n",
        "            0.9612724757952974, 0.9681881051175657, 0.9737206085753803, 0.9764868603042877]"
      ]
    },
    {
      "cell_type": "code",
      "execution_count": null,
      "metadata": {
        "colab": {
          "base_uri": "https://localhost:8080/",
          "height": 350
        },
        "id": "iU7M49eWqcdV",
        "outputId": "68bca4f3-adfb-4e2e-ad98-db82f3011610"
      },
      "outputs": [
        {
          "data": {
            "image/png": "[encoded data removed]",
            "text/plain": [
              "<Figure size 1008x360 with 2 Axes>"
            ]
          },
          "metadata": {},
          "output_type": "display_data"
        }
      ],
      "source": [
        "import matplotlib.pyplot as plt\n",
        "from matplotlib.ticker import MaxNLocator\n",
        "\n",
        "plt.rcParams[\"figure.figsize\"] = (14,5)\n",
        "fig, (ax1, ax2) = plt.subplots(1, 2)\n",
        "\n",
        "ax1.plot(loss, label=\"train_loss\")\n",
        "ax1.set_title(\"Model's loss on Dataset\")\n",
        "ax1.set_xlabel(\"Epoch #\")\n",
        "ax1.set_ylabel(\"Loss\")\n",
        "ax1.legend(loc=\"upper right\")\n",
        "ax1.xaxis.set_major_locator(MaxNLocator(integer=True))\n",
        "\n",
        "\n",
        "ax2.plot(train_acc, label=\"train_acc\")\n",
        "ax2.plot(test_acc, label=\"val_acc\")\n",
        "ax2.set_title(\"Model's acuracy on Dataset\")\n",
        "ax2.set_xlabel(\"Epoch #\")\n",
        "ax2.set_ylabel(\"Accuracy\")\n",
        "ax2.legend(loc=\"upper left\")\n",
        "ax2.xaxis.set_major_locator(MaxNLocator(integer=True))\n",
        "plt.savefig('/content/drive/MyDrive/xu ly tieng noi/report/report_ver3.jpg')"
      ]
    },
    {
      "cell_type": "markdown",
      "metadata": {
        "id": "z7TlOBTZQ3cm"
      },
      "source": [
        "## Test model"
      ]
    },
    {
      "cell_type": "code",
      "execution_count": null,
      "metadata": {
        "id": "Tze59LJvY7zJ"
      },
      "outputs": [],
      "source": [
        "lr = 1e-4\n",
        "weight_dc = 0.0\n",
        "device = torch.device('cuda')\n",
        "model, optim = load_checkpoint(device, '/content/drive/MyDrive/xu ly tieng noi/checkpoint/ver2.pth')"
      ]
    },
    {
      "cell_type": "code",
      "execution_count": null,
      "metadata": {
        "colab": {
          "base_uri": "https://localhost:8080/",
          "height": 353
        },
        "id": "w9PrbdMh6Uw7",
        "outputId": "2056bfce-2476-41a7-fa02-cef09db7498c"
      },
      "outputs": [],
      "source": [
        "test_acc = eval_fn(model, loss_fn, test_loader, device)\n",
        "print('Test acc: ', test_acc)"
      ]
    },
    {
      "cell_type": "code",
      "execution_count": null,
      "metadata": {
        "colab": {
          "base_uri": "https://localhost:8080/"
        },
        "id": "uIxuQI4MRS0U",
        "outputId": "f8647a59-3e2d-481d-9e19-bdc351340dc8"
      },
      "outputs": [
        {
          "name": "stdout",
          "output_type": "stream",
          "text": [
            "Looking in indexes: https://pypi.org/simple, https://us-python.pkg.dev/colab-wheels/public/simple/\n",
            "Collecting ffmpeg-python\n",
            "  Downloading ffmpeg_python-0.2.0-py3-none-any.whl (25 kB)\n",
            "Requirement already satisfied: future in /usr/local/lib/python3.7/dist-packages (from ffmpeg-python) (0.16.0)\n",
            "Installing collected packages: ffmpeg-python\n",
            "Successfully installed ffmpeg-python-0.2.0\n"
          ]
        }
      ],
      "source": [
        "!pip install ffmpeg-python"
      ]
    },
    {
      "cell_type": "code",
      "execution_count": null,
      "metadata": {
        "id": "KNgYVM9JJE-i"
      },
      "outputs": [],
      "source": [
        "from IPython.display import HTML, Audio\n",
        "from google.colab.output import eval_js\n",
        "from base64 import b64decode\n",
        "import numpy as np\n",
        "from scipy.io.wavfile import read as wav_read\n",
        "import io\n",
        "import ffmpeg\n",
        "\n",
        "AUDIO_HTML = \"\"\"\n",
        "<script>\n",
        "var my_div = document.createElement(\"DIV\");\n",
        "var my_p = document.createElement(\"P\");\n",
        "var my_btn = document.createElement(\"BUTTON\");\n",
        "var t = document.createTextNode(\"Press to start recording\");\n",
        "\n",
        "my_btn.appendChild(t);\n",
        "//my_p.appendChild(my_btn);\n",
        "my_div.appendChild(my_btn);\n",
        "document.body.appendChild(my_div);\n",
        "\n",
        "var base64data = 0;\n",
        "var reader;\n",
        "var recorder, gumStream;\n",
        "var recordButton = my_btn;\n",
        "\n",
        "var handleSuccess = function(stream) {\n",
        "  gumStream = stream;\n",
        "  var options = {\n",
        "    //bitsPerSecond: 8000, //chrome seems to ignore, always 48k\n",
        "    mimeType : 'audio/webm;codecs=opus'\n",
        "    //mimeType : 'audio/webm;codecs=pcm'\n",
        "  };            \n",
        "  //recorder = new MediaRecorder(stream, options);\n",
        "  recorder = new MediaRecorder(stream);\n",
        "  recorder.ondataavailable = function(e) {            \n",
        "    var url = URL.createObjectURL(e.data);\n",
        "    var preview = document.createElement('audio');\n",
        "    preview.controls = true;\n",
        "    preview.src = url;\n",
        "    document.body.appendChild(preview);\n",
        "\n",
        "    reader = new FileReader();\n",
        "    reader.readAsDataURL(e.data); \n",
        "    reader.onloadend = function() {\n",
        "      base64data = reader.result;\n",
        "      //console.log(\"Inside FileReader:\" + base64data);\n",
        "    }\n",
        "  };\n",
        "  recorder.start();\n",
        "  };\n",
        "\n",
        "recordButton.innerText = \"Recording... press to stop\";\n",
        "\n",
        "navigator.mediaDevices.getUserMedia({audio: true}).then(handleSuccess);\n",
        "\n",
        "\n",
        "function toggleRecording() {\n",
        "  if (recorder && recorder.state == \"recording\") {\n",
        "      recorder.stop();\n",
        "      gumStream.getAudioTracks()[0].stop();\n",
        "      recordButton.innerText = \"Saving the recording... pls wait!\"\n",
        "  }\n",
        "}\n",
        "\n",
        "// https://stackoverflow.com/a/951057\n",
        "function sleep(ms) {\n",
        "  return new Promise(resolve => setTimeout(resolve, ms));\n",
        "}\n",
        "\n",
        "var data = new Promise(resolve=>{\n",
        "//recordButton.addEventListener(\"click\", toggleRecording);\n",
        "recordButton.onclick = ()=>{\n",
        "toggleRecording()\n",
        "\n",
        "sleep(2000).then(() => {\n",
        "  // wait 2000ms for the data to be available...\n",
        "  // ideally this should use something like await...\n",
        "  //console.log(\"Inside data:\" + base64data)\n",
        "  resolve(base64data.toString())\n",
        "\n",
        "});\n",
        "\n",
        "}\n",
        "});\n",
        "      \n",
        "</script>\n",
        "\"\"\"\n",
        "\n",
        "def get_audio():\n",
        "  display(HTML(AUDIO_HTML))\n",
        "  data = eval_js(\"data\")\n",
        "  binary = b64decode(data.split(',')[1])\n",
        "  \n",
        "  process = (ffmpeg\n",
        "    .input('pipe:0')\n",
        "    .output('pipe:1', format='wav')\n",
        "    .run_async(pipe_stdin=True, pipe_stdout=True, pipe_stderr=True, quiet=True, overwrite_output=True)\n",
        "  )\n",
        "  output, err = process.communicate(input=binary)\n",
        "  \n",
        "  riff_chunk_size = len(output) - 8\n",
        "  # Break up the chunk size into four bytes, held in b.\n",
        "  q = riff_chunk_size\n",
        "  b = []\n",
        "  for i in range(4):\n",
        "      q, r = divmod(q, 256)\n",
        "      b.append(r)\n",
        "\n",
        "  # Replace bytes 4:8 in proc.stdout with the actual size of the RIFF chunk.\n",
        "  riff = output[:4] + bytes(b) + output[8:]\n",
        "\n",
        "  sr, audio = wav_read(io.BytesIO(riff))\n",
        "\n",
        "  return audio, sr"
      ]
    },
    {
      "cell_type": "code",
      "execution_count": null,
      "metadata": {
        "colab": {
          "base_uri": "https://localhost:8080/",
          "height": 96
        },
        "id": "ccGdggTb2C13",
        "outputId": "cb7723db-d039-4a82-8534-6b88dc4250e3"
      },
      "outputs": [
        {
          "data": {
            "text/html": [
              "\n",
              "<script>\n",
              "var my_div = document.createElement(\"DIV\");\n",
              "var my_p = document.createElement(\"P\");\n",
              "var my_btn = document.createElement(\"BUTTON\");\n",
              "var t = document.createTextNode(\"Press to start recording\");\n",
              "\n",
              "my_btn.appendChild(t);\n",
              "//my_p.appendChild(my_btn);\n",
              "my_div.appendChild(my_btn);\n",
              "document.body.appendChild(my_div);\n",
              "\n",
              "var base64data = 0;\n",
              "var reader;\n",
              "var recorder, gumStream;\n",
              "var recordButton = my_btn;\n",
              "\n",
              "var handleSuccess = function(stream) {\n",
              "  gumStream = stream;\n",
              "  var options = {\n",
              "    //bitsPerSecond: 8000, //chrome seems to ignore, always 48k\n",
              "    mimeType : 'audio/webm;codecs=opus'\n",
              "    //mimeType : 'audio/webm;codecs=pcm'\n",
              "  };            \n",
              "  //recorder = new MediaRecorder(stream, options);\n",
              "  recorder = new MediaRecorder(stream);\n",
              "  recorder.ondataavailable = function(e) {            \n",
              "    var url = URL.createObjectURL(e.data);\n",
              "    var preview = document.createElement('audio');\n",
              "    preview.controls = true;\n",
              "    preview.src = url;\n",
              "    document.body.appendChild(preview);\n",
              "\n",
              "    reader = new FileReader();\n",
              "    reader.readAsDataURL(e.data); \n",
              "    reader.onloadend = function() {\n",
              "      base64data = reader.result;\n",
              "      //console.log(\"Inside FileReader:\" + base64data);\n",
              "    }\n",
              "  };\n",
              "  recorder.start();\n",
              "  };\n",
              "\n",
              "recordButton.innerText = \"Recording... press to stop\";\n",
              "\n",
              "navigator.mediaDevices.getUserMedia({audio: true}).then(handleSuccess);\n",
              "\n",
              "\n",
              "function toggleRecording() {\n",
              "  if (recorder && recorder.state == \"recording\") {\n",
              "      recorder.stop();\n",
              "      gumStream.getAudioTracks()[0].stop();\n",
              "      recordButton.innerText = \"Saving the recording... pls wait!\"\n",
              "  }\n",
              "}\n",
              "\n",
              "// https://stackoverflow.com/a/951057\n",
              "function sleep(ms) {\n",
              "  return new Promise(resolve => setTimeout(resolve, ms));\n",
              "}\n",
              "\n",
              "var data = new Promise(resolve=>{\n",
              "//recordButton.addEventListener(\"click\", toggleRecording);\n",
              "recordButton.onclick = ()=>{\n",
              "toggleRecording()\n",
              "\n",
              "sleep(2000).then(() => {\n",
              "  // wait 2000ms for the data to be available...\n",
              "  // ideally this should use something like await...\n",
              "  //console.log(\"Inside data:\" + base64data)\n",
              "  resolve(base64data.toString())\n",
              "\n",
              "});\n",
              "\n",
              "}\n",
              "});\n",
              "      \n",
              "</script>\n"
            ],
            "text/plain": [
              "<IPython.core.display.HTML object>"
            ]
          },
          "metadata": {},
          "output_type": "display_data"
        }
      ],
      "source": [
        "audio, sr = get_audio()"
      ]
    },
    {
      "cell_type": "code",
      "execution_count": null,
      "metadata": {
        "id": "OB9G9LgC29BO"
      },
      "outputs": [],
      "source": [
        "import scipy\n",
        "scipy.io.wavfile.write('recording.wav', sr, audio)"
      ]
    },
    {
      "cell_type": "code",
      "execution_count": null,
      "metadata": {
        "colab": {
          "base_uri": "https://localhost:8080/"
        },
        "id": "xussbKwsy6Im",
        "outputId": "a96f8ca3-31ec-4d39-e620-92de3a789863"
      },
      "outputs": [
        {
          "name": "stdout",
          "output_type": "stream",
          "text": [
            "Preprocess : 0.112727\n",
            "-----------------\n",
            "Predict: 0.002012\n",
            "-------------------\n",
            "tensor([1], device='cuda:0')\n"
          ]
        }
      ],
      "source": [
        "label = predict('/content/recording.wav', model, device=device)\n",
        "print(label)"
      ]
    },
    {
      "cell_type": "code",
      "execution_count": null,
      "metadata": {
        "colab": {
          "base_uri": "https://localhost:8080/"
        },
        "id": "iVcFrScGWbkh",
        "outputId": "0bf923f8-737e-4d3e-c3cf-f285f00f8183"
      },
      "outputs": [
        {
          "data": {
            "text/plain": [
              "['trai', 'phai', 'len', 'xuong']"
            ]
          },
          "execution_count": 26,
          "metadata": {},
          "output_type": "execute_result"
        }
      ],
      "source": [
        "all_label"
      ]
    },
    {
      "cell_type": "code",
      "execution_count": null,
      "metadata": {
        "colab": {
          "base_uri": "https://localhost:8080/"
        },
        "id": "wrYWpZe_YRaG",
        "outputId": "9401e88a-08ce-48cf-cd98-f5fe4a6e388d"
      },
      "outputs": [
        {
          "data": {
            "text/plain": [
              "(76734,)"
            ]
          },
          "execution_count": 111,
          "metadata": {},
          "output_type": "execute_result"
        }
      ],
      "source": [
        "audio.shape"
      ]
    },
    {
      "cell_type": "code",
      "execution_count": null,
      "metadata": {
        "colab": {
          "base_uri": "https://localhost:8080/"
        },
        "id": "EurwWsEKYCjl",
        "outputId": "7b854fc4-3288-4ea2-a842-4eb4337f8039"
      },
      "outputs": [
        {
          "data": {
            "text/plain": [
              "(7680,)"
            ]
          },
          "execution_count": 112,
          "metadata": {},
          "output_type": "execute_result"
        }
      ],
      "source": [
        "clip = librosa.effects.trim(audio, top_db= 10)\n",
        "clip[0].shape"
      ]
    },
    {
      "cell_type": "code",
      "execution_count": null,
      "metadata": {
        "id": "sHusEL_RYbri"
      },
      "outputs": [],
      "source": [
        "scipy.io.wavfile.write('recording_clip.wav', sr, clip[0])"
      ]
    },
    {
      "cell_type": "code",
      "execution_count": null,
      "metadata": {
        "colab": {
          "base_uri": "https://localhost:8080/",
          "height": 75
        },
        "id": "qfe2NRnEY4Xe",
        "outputId": "f9e07dbb-df99-463b-f30e-b83448f07b4c"
      },
      "outputs": [
        {
          "data": {
            "text/html": [
              "\n",
              "                <audio controls=\"controls\" >\n",
              "                    <source src=\"data:audio/x-wav;base64,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\" type=\"audio/x-wav\" />\n",
              "                    Your browser does not support the audio element.\n",
              "                </audio>\n",
              "              "
            ],
            "text/plain": [
              "<IPython.lib.display.Audio object>"
            ]
          },
          "execution_count": 115,
          "metadata": {},
          "output_type": "execute_result"
        }
      ],
      "source": [
        "Audio('recording_clip.wav')"
      ]
    },
    {
      "cell_type": "code",
      "execution_count": null,
      "metadata": {},
      "outputs": [],
      "source": [
        "label = predict('/content/recording_clip.wav', model, device=device)\n",
        "print(label)"
      ]
    },
    {
      "cell_type": "code",
      "execution_count": null,
      "metadata": {
        "id": "-oavqyNq2ETK"
      },
      "outputs": [],
      "source": [
        "def filter_by_average(arr, N):\n",
        "   cumsum = np.cumsum(np.insert(arr, 0, 0)) \n",
        "   return (cumsum[N:] - cumsum[:-N]) / N\n",
        "\n",
        "def remove_silent_prefix_by_time_domain(data, \n",
        "                                        sample_rate, \n",
        "                                        threshold=0.4, \n",
        "                                        window_s=0.1, \n",
        "                                        padding_s=0.2):\n",
        "\twindow_size = int(window_s * sample_rate)\n",
        "\ttrend = filter_by_average(abs(data), window_size)\n",
        "\tstart_idx = np.argmax(trend > threshold)\n",
        "\tstart_idx = max(0, start_idx + window_size//2 - int(padding_s*sample_rate))\n",
        "\treturn data[start_idx:]\n",
        "\n",
        "def normalize(audio):\n",
        "\taudio = audio - np.mean(audio)\n",
        "\taudio = audio/np.max(audio)\n",
        "\treturn audio\n",
        "\n",
        "# import librosa\n",
        "# audio, sr = librosa.load('/content/recording.wav')\n",
        "# normalized = normalize(audio)\n",
        "# audio1 = remove_silent_prefix_by_time_domain(normalized, sr)"
      ]
    },
    {
      "cell_type": "code",
      "execution_count": null,
      "metadata": {
        "id": "iOfQ_xBqN62N"
      },
      "outputs": [],
      "source": [
        "mfcc = librosa.feature.mfcc(\n",
        "            y=clip[0],\n",
        "            n_mfcc=20,\n",
        "        )\n",
        "mfcc = normalize(mfcc)"
      ]
    }
  ],
  "metadata": {
    "colab": {
      "collapsed_sections": [],
      "name": "lstm+rnn+augment+Nghia.ipynb",
      "provenance": []
    },
    "gpuClass": "standard",
    "kernelspec": {
      "display_name": "Python 3",
      "name": "python3"
    },
    "language_info": {
      "name": "python"
    }
  },
  "nbformat": 4,
  "nbformat_minor": 0
}
